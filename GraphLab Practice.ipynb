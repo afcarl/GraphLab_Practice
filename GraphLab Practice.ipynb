{
 "metadata": {
  "name": "",
  "signature": "sha256:71378ddc5d28e2e5783c8ab99a844733f7dbf9641b021eb560890e350b24f9c2"
 },
 "nbformat": 3,
 "nbformat_minor": 0,
 "worksheets": [
  {
   "cells": [
    {
     "cell_type": "heading",
     "level": 3,
     "metadata": {},
     "source": [
      "GraphLab"
     ]
    },
    {
     "cell_type": "code",
     "collapsed": false,
     "input": [
      "from graphlab import SFrame, SGraph, graphlab"
     ],
     "language": "python",
     "metadata": {},
     "outputs": [],
     "prompt_number": 160
    },
    {
     "cell_type": "code",
     "collapsed": false,
     "input": [
      "data = SFrame.read_csv(\"http://s3.amazonaws.com/GraphLab-Datasets/movie_ratings/training_data.csv\", column_type_hints={\"rating\":int})\n",
      "data.head()"
     ],
     "language": "python",
     "metadata": {},
     "outputs": [
      {
       "output_type": "stream",
       "stream": "stderr",
       "text": [
        "[INFO] Start server at: ipc:///tmp/graphlab_server-10900 - Server binary: /Users/willow/anaconda/lib/python2.7/site-packages/graphlab/unity_server - Server log: /tmp/graphlab_server_1406173159.log\n"
       ]
      },
      {
       "output_type": "stream",
       "stream": "stderr",
       "text": [
        "[INFO] GraphLab Server Version: 0.9.0\n"
       ]
      },
      {
       "html": [
        "PROGRESS: Finished parsing file http://s3.amazonaws.com/GraphLab-Datasets/movie_ratings/training_data.csv<br/>"
       ],
       "metadata": {},
       "output_type": "display_data",
       "text": [
        "PROGRESS: Finished parsing file http://s3.amazonaws.com/GraphLab-Datasets/movie_ratings/training_data.csv"
       ]
      },
      {
       "html": [
        "PROGRESS: Parsing completed. Parsed 82068 lines in 0.115976 secs.<br/>"
       ],
       "metadata": {},
       "output_type": "display_data",
       "text": [
        "PROGRESS: Parsing completed. Parsed 82068 lines in 0.115976 secs."
       ]
      },
      {
       "html": [
        "<div style=\"max-height:1000px;max-width:1500px;overflow:auto;\"><table frame=\"box\" rules=\"cols\">\n",
        "    <tr>\n",
        "        <th style=\"padding-left: 1em; padding-right: 1em; text-align: center\">user</th>\n",
        "        <th style=\"padding-left: 1em; padding-right: 1em; text-align: center\">movie</th>\n",
        "        <th style=\"padding-left: 1em; padding-right: 1em; text-align: center\">rating</th>\n",
        "    </tr>\n",
        "    <tr>\n",
        "        <td style=\"padding-left: 1em; padding-right: 1em; text-align: center; vertical-align: top\">Jacob Smith</td>\n",
        "        <td style=\"padding-left: 1em; padding-right: 1em; text-align: center; vertical-align: top\">Flirting with Disaster</td>\n",
        "        <td style=\"padding-left: 1em; padding-right: 1em; text-align: center; vertical-align: top\">4</td>\n",
        "    </tr>\n",
        "    <tr>\n",
        "        <td style=\"padding-left: 1em; padding-right: 1em; text-align: center; vertical-align: top\">Jacob Smith</td>\n",
        "        <td style=\"padding-left: 1em; padding-right: 1em; text-align: center; vertical-align: top\">Indecent Proposal</td>\n",
        "        <td style=\"padding-left: 1em; padding-right: 1em; text-align: center; vertical-align: top\">3</td>\n",
        "    </tr>\n",
        "    <tr>\n",
        "        <td style=\"padding-left: 1em; padding-right: 1em; text-align: center; vertical-align: top\">Jacob Smith</td>\n",
        "        <td style=\"padding-left: 1em; padding-right: 1em; text-align: center; vertical-align: top\">Runaway Bride</td>\n",
        "        <td style=\"padding-left: 1em; padding-right: 1em; text-align: center; vertical-align: top\">2</td>\n",
        "    </tr>\n",
        "    <tr>\n",
        "        <td style=\"padding-left: 1em; padding-right: 1em; text-align: center; vertical-align: top\">Jacob Smith</td>\n",
        "        <td style=\"padding-left: 1em; padding-right: 1em; text-align: center; vertical-align: top\">Swiss Family Robinson</td>\n",
        "        <td style=\"padding-left: 1em; padding-right: 1em; text-align: center; vertical-align: top\">1</td>\n",
        "    </tr>\n",
        "    <tr>\n",
        "        <td style=\"padding-left: 1em; padding-right: 1em; text-align: center; vertical-align: top\">Jacob Smith</td>\n",
        "        <td style=\"padding-left: 1em; padding-right: 1em; text-align: center; vertical-align: top\">The Mexican</td>\n",
        "        <td style=\"padding-left: 1em; padding-right: 1em; text-align: center; vertical-align: top\">2</td>\n",
        "    </tr>\n",
        "    <tr>\n",
        "        <td style=\"padding-left: 1em; padding-right: 1em; text-align: center; vertical-align: top\">Jacob Smith</td>\n",
        "        <td style=\"padding-left: 1em; padding-right: 1em; text-align: center; vertical-align: top\">Maid in Manhattan</td>\n",
        "        <td style=\"padding-left: 1em; padding-right: 1em; text-align: center; vertical-align: top\">4</td>\n",
        "    </tr>\n",
        "    <tr>\n",
        "        <td style=\"padding-left: 1em; padding-right: 1em; text-align: center; vertical-align: top\">Jacob Smith</td>\n",
        "        <td style=\"padding-left: 1em; padding-right: 1em; text-align: center; vertical-align: top\">A Charlie Brown<br>Thanksgiving / The ...</td>\n",
        "        <td style=\"padding-left: 1em; padding-right: 1em; text-align: center; vertical-align: top\">3</td>\n",
        "    </tr>\n",
        "    <tr>\n",
        "        <td style=\"padding-left: 1em; padding-right: 1em; text-align: center; vertical-align: top\">Jacob Smith</td>\n",
        "        <td style=\"padding-left: 1em; padding-right: 1em; text-align: center; vertical-align: top\">Brazil</td>\n",
        "        <td style=\"padding-left: 1em; padding-right: 1em; text-align: center; vertical-align: top\">1</td>\n",
        "    </tr>\n",
        "    <tr>\n",
        "        <td style=\"padding-left: 1em; padding-right: 1em; text-align: center; vertical-align: top\">Jacob Smith</td>\n",
        "        <td style=\"padding-left: 1em; padding-right: 1em; text-align: center; vertical-align: top\">Forrest Gump</td>\n",
        "        <td style=\"padding-left: 1em; padding-right: 1em; text-align: center; vertical-align: top\">3</td>\n",
        "    </tr>\n",
        "    <tr>\n",
        "        <td style=\"padding-left: 1em; padding-right: 1em; text-align: center; vertical-align: top\">Jacob Smith</td>\n",
        "        <td style=\"padding-left: 1em; padding-right: 1em; text-align: center; vertical-align: top\">It Happened One Night</td>\n",
        "        <td style=\"padding-left: 1em; padding-right: 1em; text-align: center; vertical-align: top\">4</td>\n",
        "    </tr>\n",
        "</table>\n",
        "[10 rows x 3 columns]<br/>\n",
        "</div>"
       ],
       "metadata": {},
       "output_type": "pyout",
       "prompt_number": 131,
       "text": [
        "Columns:\n",
        "\tuser\tstr\n",
        "\tmovie\tstr\n",
        "\trating\tint\n",
        "\n",
        "Rows: 10\n",
        "\n",
        "Data:\n",
        "+-------------+--------------------------------+--------+\n",
        "|     user    |             movie              | rating |\n",
        "+-------------+--------------------------------+--------+\n",
        "| Jacob Smith |     Flirting with Disaster     |   4    |\n",
        "| Jacob Smith |       Indecent Proposal        |   3    |\n",
        "| Jacob Smith |         Runaway Bride          |   2    |\n",
        "| Jacob Smith |     Swiss Family Robinson      |   1    |\n",
        "| Jacob Smith |          The Mexican           |   2    |\n",
        "| Jacob Smith |       Maid in Manhattan        |   4    |\n",
        "| Jacob Smith | A Charlie Brown Thanksgivi ... |   3    |\n",
        "| Jacob Smith |             Brazil             |   1    |\n",
        "| Jacob Smith |          Forrest Gump          |   3    |\n",
        "| Jacob Smith |     It Happened One Night      |   4    |\n",
        "+-------------+--------------------------------+--------+\n",
        "[10 rows x 3 columns]"
       ]
      }
     ],
     "prompt_number": 131
    },
    {
     "cell_type": "code",
     "collapsed": false,
     "input": [
      "data.to_dataframe?"
     ],
     "language": "python",
     "metadata": {},
     "outputs": [],
     "prompt_number": 137
    },
    {
     "cell_type": "heading",
     "level": 3,
     "metadata": {},
     "source": [
      "GraphLab Hello World"
     ]
    },
    {
     "cell_type": "code",
     "collapsed": false,
     "input": [
      "sf_hello = SFrame(data='http://graphlab.com/files/datasets/freebase_performances.csv')"
     ],
     "language": "python",
     "metadata": {},
     "outputs": [
      {
       "html": [
        "PROGRESS: Finished parsing file http://graphlab.com/files/datasets/freebase_performances.csv<br/>"
       ],
       "metadata": {},
       "output_type": "display_data",
       "text": [
        "PROGRESS: Finished parsing file http://graphlab.com/files/datasets/freebase_performances.csv"
       ]
      },
      {
       "html": [
        "PROGRESS: Parsing completed. Parsed 100 lines in 0.076845 secs.<br/>"
       ],
       "metadata": {},
       "output_type": "display_data",
       "text": [
        "PROGRESS: Parsing completed. Parsed 100 lines in 0.076845 secs."
       ]
      },
      {
       "output_type": "stream",
       "stream": "stdout",
       "text": [
        "Could not detect types. Using str for each column."
       ]
      },
      {
       "html": [
        "PROGRESS: Finished parsing file http://graphlab.com/files/datasets/freebase_performances.csv<br/>"
       ],
       "metadata": {},
       "output_type": "display_data",
       "text": [
        "PROGRESS: Finished parsing file http://graphlab.com/files/datasets/freebase_performances.csv"
       ]
      },
      {
       "html": [
        "PROGRESS: Parsing completed. Parsed 156468 lines in 0.284737 secs.<br/>"
       ],
       "metadata": {},
       "output_type": "display_data",
       "text": [
        "PROGRESS: Parsing completed. Parsed 156468 lines in 0.284737 secs."
       ]
      },
      {
       "output_type": "stream",
       "stream": "stdout",
       "text": [
        "\n"
       ]
      }
     ],
     "prompt_number": 139
    },
    {
     "cell_type": "code",
     "collapsed": false,
     "input": [
      "print sf_hello"
     ],
     "language": "python",
     "metadata": {},
     "outputs": [
      {
       "output_type": "stream",
       "stream": "stdout",
       "text": [
        "+----+-------------------+--------------------------------+\n",
        "| X1 |     actor_name    |           character            |\n",
        "+----+-------------------+--------------------------------+\n",
        "| 0  | David A. R. White |           Adam Riley           |\n",
        "| 1  |    Lonnie Colon   |    'Captain' Robert Jackson    |\n",
        "| 2  |    Brad Heller    |          Jacob Krause          |\n",
        "| 3  |    Logan White    |            Carissa             |\n",
        "| 4  |    Monte Perlin   |      Commander Fredericks      |\n",
        "| 5  |    John Gilbert   |         Peter McCollum         |\n",
        "| 6  |    Kevin Downes   |         Charles Baker          |\n",
        "| 7  |     Asad Farr     |        Global Chairman         |\n",
        "| 8  | Don Parker Decker | President of the United States |\n",
        "| 9  |     Bree Pavey    |         Audrey Thomas          |\n",
        "+----+-------------------+--------------------------------+\n",
        "+--------------------------------+------+\n",
        "|           film_name            | year |\n",
        "+--------------------------------+------+\n",
        "| The Moment After 2: The Aw ... | 2006 |\n",
        "| The Moment After 2: The Aw ... | 2006 |\n",
        "| The Moment After 2: The Aw ... | 2006 |\n",
        "| The Moment After 2: The Aw ... | 2006 |\n",
        "| The Moment After 2: The Aw ... | 2006 |\n",
        "| The Moment After 2: The Aw ... | 2006 |\n",
        "| The Moment After 2: The Aw ... | 2006 |\n",
        "| The Moment After 2: The Aw ... | 2006 |\n",
        "| The Moment After 2: The Aw ... | 2006 |\n",
        "| The Moment After 2: The Aw ... | 2006 |\n",
        "|              ...               | ...  |\n",
        "+--------------------------------+------+\n",
        "[156468 rows x 5 columns]\n",
        "Note: Only the head of the SFrame is printed.\n",
        "You can use print_rows(num_rows=m, num_columns=n) to print more rows and columns.\n"
       ]
      }
     ],
     "prompt_number": 141
    },
    {
     "cell_type": "code",
     "collapsed": false,
     "input": [
      "sf_hello.print_rows(3, 3)"
     ],
     "language": "python",
     "metadata": {},
     "outputs": [
      {
       "output_type": "stream",
       "stream": "stdout",
       "text": [
        "+-----+-------------------+--------------------------+-----+\n",
        "|  X1 |     actor_name    |        character         | ... |\n",
        "+-----+-------------------+--------------------------+-----+\n",
        "|  0  | David A. R. White |        Adam Riley        | ... |\n",
        "|  1  |    Lonnie Colon   | 'Captain' Robert Jackson | ... |\n",
        "|  2  |    Brad Heller    |       Jacob Krause       | ... |\n",
        "| ... |        ...        |           ...            | ... |\n",
        "+-----+-------------------+--------------------------+-----+\n",
        "[156468 rows x 5 columns]\n",
        "\n"
       ]
      }
     ],
     "prompt_number": 149
    },
    {
     "cell_type": "code",
     "collapsed": false,
     "input": [
      "g = SGraph()"
     ],
     "language": "python",
     "metadata": {},
     "outputs": [],
     "prompt_number": 154
    },
    {
     "cell_type": "code",
     "collapsed": false,
     "input": [
      "g = g.add_edges(sf_hello, 'actor_name', 'film_name')"
     ],
     "language": "python",
     "metadata": {},
     "outputs": [],
     "prompt_number": 157
    },
    {
     "cell_type": "code",
     "collapsed": false,
     "input": [
      "g"
     ],
     "language": "python",
     "metadata": {},
     "outputs": [
      {
       "metadata": {},
       "output_type": "pyout",
       "prompt_number": 158,
       "text": [
        "SGraph({'num_edges': 156468, 'num_vertices': 97753})\n",
        "Vertex Fields:['__id']\n",
        "Edge Fields:['__src_id', '__dst_id', 'X1', 'character', 'year']"
       ]
      }
     ],
     "prompt_number": 158
    },
    {
     "cell_type": "code",
     "collapsed": false,
     "input": [
      "pr = graphlab.pagerank.create(g)"
     ],
     "language": "python",
     "metadata": {},
     "outputs": [
      {
       "html": [
        "PROGRESS: Finish iteration 1 in 0.772118 secs.\n",
        "Total L1 change in pagerank = 127198<br/>"
       ],
       "metadata": {},
       "output_type": "display_data",
       "text": [
        "PROGRESS: Finish iteration 1 in 0.772118 secs.\n",
        "Total L1 change in pagerank = 127198"
       ]
      },
      {
       "html": [
        "PROGRESS: Finish iteration 2 in 0.696424 secs.\n",
        "Total L1 change in pagerank = 58654<br/>"
       ],
       "metadata": {},
       "output_type": "display_data",
       "text": [
        "PROGRESS: Finish iteration 2 in 0.696424 secs.\n",
        "Total L1 change in pagerank = 58654"
       ]
      },
      {
       "html": [
        "PROGRESS: Finish iteration 3 in 0.668595 secs.\n",
        "Total L1 change in pagerank = 161.551<br/>"
       ],
       "metadata": {},
       "output_type": "display_data",
       "text": [
        "PROGRESS: Finish iteration 3 in 0.668595 secs.\n",
        "Total L1 change in pagerank = 161.551"
       ]
      },
      {
       "html": [
        "PROGRESS: Finish iteration 4 in 0.724687 secs.\n",
        "Total L1 change in pagerank = 2.65704e-13<br/>"
       ],
       "metadata": {},
       "output_type": "display_data",
       "text": [
        "PROGRESS: Finish iteration 4 in 0.724687 secs.\n",
        "Total L1 change in pagerank = 2.65704e-13"
       ]
      }
     ],
     "prompt_number": 161
    },
    {
     "cell_type": "code",
     "collapsed": false,
     "input": [
      "pr"
     ],
     "language": "python",
     "metadata": {},
     "outputs": [
      {
       "metadata": {},
       "output_type": "pyout",
       "prompt_number": 162,
       "text": [
        "Class: PagerankModel\n",
        "Summary:\n",
        "\t total_pagerank: 25056.9115288\n",
        "\t delta: 2.65704125368e-13\n",
        "\t hyperparams: {'threshold': 0.01, 'reset_prob': 0.15}\n",
        "\t runtime: 3.460061\n",
        "Available fields for get():\n",
        "\t['pagerank', 'runtime', 'total_pagerank', 'graph']\n"
       ]
      }
     ],
     "prompt_number": 162
    },
    {
     "cell_type": "code",
     "collapsed": false,
     "input": [
      "pr.get('pagerank').topk(column_name='pagerank')"
     ],
     "language": "python",
     "metadata": {},
     "outputs": [
      {
       "html": [
        "<div style=\"max-height:1000px;max-width:1500px;overflow:auto;\"><table frame=\"box\" rules=\"cols\">\n",
        "    <tr>\n",
        "        <th style=\"padding-left: 1em; padding-right: 1em; text-align: center\">__id</th>\n",
        "        <th style=\"padding-left: 1em; padding-right: 1em; text-align: center\">pagerank</th>\n",
        "    </tr>\n",
        "    <tr>\n",
        "        <td style=\"padding-left: 1em; padding-right: 1em; text-align: center; vertical-align: top\">Redemption</td>\n",
        "        <td style=\"padding-left: 1em; padding-right: 1em; text-align: center; vertical-align: top\">11.8416871497</td>\n",
        "    </tr>\n",
        "    <tr>\n",
        "        <td style=\"padding-left: 1em; padding-right: 1em; text-align: center; vertical-align: top\">Sharknado</td>\n",
        "        <td style=\"padding-left: 1em; padding-right: 1em; text-align: center; vertical-align: top\">11.6689187354</td>\n",
        "    </tr>\n",
        "    <tr>\n",
        "        <td style=\"padding-left: 1em; padding-right: 1em; text-align: center; vertical-align: top\">The Family</td>\n",
        "        <td style=\"padding-left: 1em; padding-right: 1em; text-align: center; vertical-align: top\">10.5604230265</td>\n",
        "    </tr>\n",
        "    <tr>\n",
        "        <td style=\"padding-left: 1em; padding-right: 1em; text-align: center; vertical-align: top\">8:46</td>\n",
        "        <td style=\"padding-left: 1em; padding-right: 1em; text-align: center; vertical-align: top\">10.148125</td>\n",
        "    </tr>\n",
        "    <tr>\n",
        "        <td style=\"padding-left: 1em; padding-right: 1em; text-align: center; vertical-align: top\">Abraham Lincoln vs.<br>Zombies</td>\n",
        "        <td style=\"padding-left: 1em; padding-right: 1em; text-align: center; vertical-align: top\">9.47875</td>\n",
        "    </tr>\n",
        "    <tr>\n",
        "        <td style=\"padding-left: 1em; padding-right: 1em; text-align: center; vertical-align: top\">Dean Teaster's Ghost Town</td>\n",
        "        <td style=\"padding-left: 1em; padding-right: 1em; text-align: center; vertical-align: top\">9.19030265568</td>\n",
        "    </tr>\n",
        "    <tr>\n",
        "        <td style=\"padding-left: 1em; padding-right: 1em; text-align: center; vertical-align: top\">How Do You Write a Joe<br>Schermann Song</td>\n",
        "        <td style=\"padding-left: 1em; padding-right: 1em; text-align: center; vertical-align: top\">9.18125</td>\n",
        "    </tr>\n",
        "    <tr>\n",
        "        <td style=\"padding-left: 1em; padding-right: 1em; text-align: center; vertical-align: top\">The Showdown</td>\n",
        "        <td style=\"padding-left: 1em; padding-right: 1em; text-align: center; vertical-align: top\">8.54071428571</td>\n",
        "    </tr>\n",
        "    <tr>\n",
        "        <td style=\"padding-left: 1em; padding-right: 1em; text-align: center; vertical-align: top\">Killing Kennedy</td>\n",
        "        <td style=\"padding-left: 1em; padding-right: 1em; text-align: center; vertical-align: top\">8.52610876623</td>\n",
        "    </tr>\n",
        "    <tr>\n",
        "        <td style=\"padding-left: 1em; padding-right: 1em; text-align: center; vertical-align: top\">Meteor Apocalypse</td>\n",
        "        <td style=\"padding-left: 1em; padding-right: 1em; text-align: center; vertical-align: top\">8.52371428571</td>\n",
        "    </tr>\n",
        "</table>\n",
        "[10 rows x 2 columns]<br/>\n",
        "</div>"
       ],
       "metadata": {},
       "output_type": "pyout",
       "prompt_number": 163,
       "text": [
        "Columns:\n",
        "\t__id\tstr\n",
        "\tpagerank\tfloat\n",
        "\n",
        "Rows: 10\n",
        "\n",
        "Data:\n",
        "+--------------------------------+---------------+\n",
        "|              __id              |    pagerank   |\n",
        "+--------------------------------+---------------+\n",
        "|           Redemption           | 11.8416871497 |\n",
        "|           Sharknado            | 11.6689187354 |\n",
        "|           The Family           | 10.5604230265 |\n",
        "|              8:46              |   10.148125   |\n",
        "|  Abraham Lincoln vs. Zombies   |    9.47875    |\n",
        "|   Dean Teaster's Ghost Town    | 9.19030265568 |\n",
        "| How Do You Write a Joe Sch ... |    9.18125    |\n",
        "|          The Showdown          | 8.54071428571 |\n",
        "|        Killing Kennedy         | 8.52610876623 |\n",
        "|       Meteor Apocalypse        | 8.52371428571 |\n",
        "+--------------------------------+---------------+\n",
        "[10 rows x 2 columns]"
       ]
      }
     ],
     "prompt_number": 163
    },
    {
     "cell_type": "code",
     "collapsed": false,
     "input": [],
     "language": "python",
     "metadata": {},
     "outputs": []
    }
   ],
   "metadata": {}
  }
 ]
}