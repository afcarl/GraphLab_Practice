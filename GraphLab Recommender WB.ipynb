{
 "metadata": {
  "name": "",
  "signature": "sha256:79513f37ca3b1f675ff9282cfdc7fcc8dc14f400246cbaff244f6fb12006d470"
 },
 "nbformat": 3,
 "nbformat_minor": 0,
 "worksheets": [
  {
   "cells": [
    {
     "cell_type": "markdown",
     "metadata": {},
     "source": [
      "http://graphlab.com/learn/notebooks/five_line_recommender.html"
     ]
    },
    {
     "cell_type": "code",
     "collapsed": false,
     "input": [
      "import graphlab"
     ],
     "language": "python",
     "metadata": {},
     "outputs": [],
     "prompt_number": 1
    },
    {
     "cell_type": "code",
     "collapsed": false,
     "input": [
      "data = graphlab.SFrame.read_csv(\"http://s3.amazonaws.com/GraphLab-Datasets/movie_ratings/training_data.csv\", column_type_hints={\"rating\":int})\n",
      "data.head()"
     ],
     "language": "python",
     "metadata": {},
     "outputs": [
      {
       "output_type": "stream",
       "stream": "stderr",
       "text": [
        "[INFO] Start server at: ipc:///tmp/graphlab_server-11236 - Server binary: /Users/willow/anaconda/lib/python2.7/site-packages/graphlab/unity_server - Server log: /tmp/graphlab_server_1406177056.log\n"
       ]
      },
      {
       "output_type": "stream",
       "stream": "stderr",
       "text": [
        "[INFO] GraphLab Server Version: 0.9.0\n"
       ]
      },
      {
       "html": [
        "PROGRESS: Finished parsing file http://s3.amazonaws.com/GraphLab-Datasets/movie_ratings/training_data.csv<br/>"
       ],
       "metadata": {},
       "output_type": "display_data",
       "text": [
        "PROGRESS: Finished parsing file http://s3.amazonaws.com/GraphLab-Datasets/movie_ratings/training_data.csv"
       ]
      },
      {
       "html": [
        "PROGRESS: Parsing completed. Parsed 82068 lines in 0.111737 secs.<br/>"
       ],
       "metadata": {},
       "output_type": "display_data",
       "text": [
        "PROGRESS: Parsing completed. Parsed 82068 lines in 0.111737 secs."
       ]
      },
      {
       "html": [
        "<div style=\"max-height:1000px;max-width:1500px;overflow:auto;\"><table frame=\"box\" rules=\"cols\">\n",
        "    <tr>\n",
        "        <th style=\"padding-left: 1em; padding-right: 1em; text-align: center\">user</th>\n",
        "        <th style=\"padding-left: 1em; padding-right: 1em; text-align: center\">movie</th>\n",
        "        <th style=\"padding-left: 1em; padding-right: 1em; text-align: center\">rating</th>\n",
        "    </tr>\n",
        "    <tr>\n",
        "        <td style=\"padding-left: 1em; padding-right: 1em; text-align: center; vertical-align: top\">Jacob Smith</td>\n",
        "        <td style=\"padding-left: 1em; padding-right: 1em; text-align: center; vertical-align: top\">Flirting with Disaster</td>\n",
        "        <td style=\"padding-left: 1em; padding-right: 1em; text-align: center; vertical-align: top\">4</td>\n",
        "    </tr>\n",
        "    <tr>\n",
        "        <td style=\"padding-left: 1em; padding-right: 1em; text-align: center; vertical-align: top\">Jacob Smith</td>\n",
        "        <td style=\"padding-left: 1em; padding-right: 1em; text-align: center; vertical-align: top\">Indecent Proposal</td>\n",
        "        <td style=\"padding-left: 1em; padding-right: 1em; text-align: center; vertical-align: top\">3</td>\n",
        "    </tr>\n",
        "    <tr>\n",
        "        <td style=\"padding-left: 1em; padding-right: 1em; text-align: center; vertical-align: top\">Jacob Smith</td>\n",
        "        <td style=\"padding-left: 1em; padding-right: 1em; text-align: center; vertical-align: top\">Runaway Bride</td>\n",
        "        <td style=\"padding-left: 1em; padding-right: 1em; text-align: center; vertical-align: top\">2</td>\n",
        "    </tr>\n",
        "    <tr>\n",
        "        <td style=\"padding-left: 1em; padding-right: 1em; text-align: center; vertical-align: top\">Jacob Smith</td>\n",
        "        <td style=\"padding-left: 1em; padding-right: 1em; text-align: center; vertical-align: top\">Swiss Family Robinson</td>\n",
        "        <td style=\"padding-left: 1em; padding-right: 1em; text-align: center; vertical-align: top\">1</td>\n",
        "    </tr>\n",
        "    <tr>\n",
        "        <td style=\"padding-left: 1em; padding-right: 1em; text-align: center; vertical-align: top\">Jacob Smith</td>\n",
        "        <td style=\"padding-left: 1em; padding-right: 1em; text-align: center; vertical-align: top\">The Mexican</td>\n",
        "        <td style=\"padding-left: 1em; padding-right: 1em; text-align: center; vertical-align: top\">2</td>\n",
        "    </tr>\n",
        "    <tr>\n",
        "        <td style=\"padding-left: 1em; padding-right: 1em; text-align: center; vertical-align: top\">Jacob Smith</td>\n",
        "        <td style=\"padding-left: 1em; padding-right: 1em; text-align: center; vertical-align: top\">Maid in Manhattan</td>\n",
        "        <td style=\"padding-left: 1em; padding-right: 1em; text-align: center; vertical-align: top\">4</td>\n",
        "    </tr>\n",
        "    <tr>\n",
        "        <td style=\"padding-left: 1em; padding-right: 1em; text-align: center; vertical-align: top\">Jacob Smith</td>\n",
        "        <td style=\"padding-left: 1em; padding-right: 1em; text-align: center; vertical-align: top\">A Charlie Brown<br>Thanksgiving / The ...</td>\n",
        "        <td style=\"padding-left: 1em; padding-right: 1em; text-align: center; vertical-align: top\">3</td>\n",
        "    </tr>\n",
        "    <tr>\n",
        "        <td style=\"padding-left: 1em; padding-right: 1em; text-align: center; vertical-align: top\">Jacob Smith</td>\n",
        "        <td style=\"padding-left: 1em; padding-right: 1em; text-align: center; vertical-align: top\">Brazil</td>\n",
        "        <td style=\"padding-left: 1em; padding-right: 1em; text-align: center; vertical-align: top\">1</td>\n",
        "    </tr>\n",
        "    <tr>\n",
        "        <td style=\"padding-left: 1em; padding-right: 1em; text-align: center; vertical-align: top\">Jacob Smith</td>\n",
        "        <td style=\"padding-left: 1em; padding-right: 1em; text-align: center; vertical-align: top\">Forrest Gump</td>\n",
        "        <td style=\"padding-left: 1em; padding-right: 1em; text-align: center; vertical-align: top\">3</td>\n",
        "    </tr>\n",
        "    <tr>\n",
        "        <td style=\"padding-left: 1em; padding-right: 1em; text-align: center; vertical-align: top\">Jacob Smith</td>\n",
        "        <td style=\"padding-left: 1em; padding-right: 1em; text-align: center; vertical-align: top\">It Happened One Night</td>\n",
        "        <td style=\"padding-left: 1em; padding-right: 1em; text-align: center; vertical-align: top\">4</td>\n",
        "    </tr>\n",
        "</table>\n",
        "[10 rows x 3 columns]<br/>\n",
        "</div>"
       ],
       "metadata": {},
       "output_type": "pyout",
       "prompt_number": 2,
       "text": [
        "Columns:\n",
        "\tuser\tstr\n",
        "\tmovie\tstr\n",
        "\trating\tint\n",
        "\n",
        "Rows: 10\n",
        "\n",
        "Data:\n",
        "+-------------+--------------------------------+--------+\n",
        "|     user    |             movie              | rating |\n",
        "+-------------+--------------------------------+--------+\n",
        "| Jacob Smith |     Flirting with Disaster     |   4    |\n",
        "| Jacob Smith |       Indecent Proposal        |   3    |\n",
        "| Jacob Smith |         Runaway Bride          |   2    |\n",
        "| Jacob Smith |     Swiss Family Robinson      |   1    |\n",
        "| Jacob Smith |          The Mexican           |   2    |\n",
        "| Jacob Smith |       Maid in Manhattan        |   4    |\n",
        "| Jacob Smith | A Charlie Brown Thanksgivi ... |   3    |\n",
        "| Jacob Smith |             Brazil             |   1    |\n",
        "| Jacob Smith |          Forrest Gump          |   3    |\n",
        "| Jacob Smith |     It Happened One Night      |   4    |\n",
        "+-------------+--------------------------------+--------+\n",
        "[10 rows x 3 columns]"
       ]
      }
     ],
     "prompt_number": 2
    },
    {
     "cell_type": "code",
     "collapsed": false,
     "input": [
      "print \"item similarity, matrix factorization, factorization machine, popularity\" * 10"
     ],
     "language": "python",
     "metadata": {},
     "outputs": [
      {
       "output_type": "stream",
       "stream": "stdout",
       "text": [
        "item similarity, matrix factorization, factorization machine, popularityitem similarity, matrix factorization, factorization machine, popularityitem similarity, matrix factorization, factorization machine, popularityitem similarity, matrix factorization, factorization machine, popularityitem similarity, matrix factorization, factorization machine, popularityitem similarity, matrix factorization, factorization machine, popularityitem similarity, matrix factorization, factorization machine, popularityitem similarity, matrix factorization, factorization machine, popularityitem similarity, matrix factorization, factorization machine, popularityitem similarity, matrix factorization, factorization machine, popularity\n"
       ]
      }
     ],
     "prompt_number": 3
    },
    {
     "cell_type": "code",
     "collapsed": false,
     "input": [
      "# Build a default recommender (a Matrix Factorization model)\n",
      "# The data needs to contain at least three columns: user, item, and rating.\n",
      "# All other columns in the dataset are ignored by the default recommender.\n",
      "# default hyperparameter and regularization. pass as parameters to change\n",
      "model = graphlab.recommender.create(data, user_column=\"user\", item_column=\"movie\", target_column=\"rating\")"
     ],
     "language": "python",
     "metadata": {},
     "outputs": [
      {
       "html": [
        "PROGRESS: Recsys training: model = matrix_factorization<br/>"
       ],
       "metadata": {},
       "output_type": "display_data",
       "text": [
        "PROGRESS: Recsys training: model = matrix_factorization"
       ]
      },
      {
       "html": [
        "PROGRESS: Training Schema = [ (user:categorical) (movie:categorical) : target = rating]<br/>"
       ],
       "metadata": {},
       "output_type": "display_data",
       "text": [
        "PROGRESS: Training Schema = [ (user:categorical) (movie:categorical) : target = rating]"
       ]
      },
      {
       "html": [
        "PROGRESS: Preparing data set.<br/>"
       ],
       "metadata": {},
       "output_type": "display_data",
       "text": [
        "PROGRESS: Preparing data set."
       ]
      },
      {
       "html": [
        "PROGRESS:     Training on 82068 training observations.<br/>"
       ],
       "metadata": {},
       "output_type": "display_data",
       "text": [
        "PROGRESS:     Training on 82068 training observations."
       ]
      },
      {
       "html": [
        "PROGRESS:     Data loaded in: 0.224606s<br/>"
       ],
       "metadata": {},
       "output_type": "display_data",
       "text": [
        "PROGRESS:     Data loaded in: 0.224606s"
       ]
      },
      {
       "html": [
        "PROGRESS: Training Matrix Factorization model for recommendations.<br/>"
       ],
       "metadata": {},
       "output_type": "display_data",
       "text": [
        "PROGRESS: Training Matrix Factorization model for recommendations."
       ]
      },
      {
       "html": [
        "PROGRESS:    Data has 82068 observations with 334 users and 7714 items.<br/>"
       ],
       "metadata": {},
       "output_type": "display_data",
       "text": [
        "PROGRESS:    Data has 82068 observations with 334 users and 7714 items."
       ]
      },
      {
       "html": [
        "PROGRESS:    L2 regularization on linear coefficients: 0<br/>"
       ],
       "metadata": {},
       "output_type": "display_data",
       "text": [
        "PROGRESS:    L2 regularization on linear coefficients: 0"
       ]
      },
      {
       "html": [
        "PROGRESS:    L2 regularization on matrix factors:      1<br/>"
       ],
       "metadata": {},
       "output_type": "display_data",
       "text": [
        "PROGRESS:    L2 regularization on matrix factors:      1"
       ]
      },
      {
       "html": [
        "PROGRESS:    n_factors:                                8<br/>"
       ],
       "metadata": {},
       "output_type": "display_data",
       "text": [
        "PROGRESS:    n_factors:                                8"
       ]
      },
      {
       "html": [
        "PROGRESS: ---------------------------------------------<br/>"
       ],
       "metadata": {},
       "output_type": "display_data",
       "text": [
        "PROGRESS: ---------------------------------------------"
       ]
      },
      {
       "html": [
        "PROGRESS:           Starting Optimization<br/>"
       ],
       "metadata": {},
       "output_type": "display_data",
       "text": [
        "PROGRESS:           Starting Optimization"
       ]
      },
      {
       "html": [
        "PROGRESS: ---------------------------------------------<br/>"
       ],
       "metadata": {},
       "output_type": "display_data",
       "text": [
        "PROGRESS: ---------------------------------------------"
       ]
      },
      {
       "html": [
        "PROGRESS: Initial objective value: 13.7749<br/>"
       ],
       "metadata": {},
       "output_type": "display_data",
       "text": [
        "PROGRESS: Initial objective value: 13.7749"
       ]
      },
      {
       "html": [
        "PROGRESS: Optimizing model using SGD; tuning step size.<br/>"
       ],
       "metadata": {},
       "output_type": "display_data",
       "text": [
        "PROGRESS: Optimizing model using SGD; tuning step size."
       ]
      },
      {
       "html": [
        "PROGRESS: Using 10000 / 82068 points for tuning the step size.<br/>"
       ],
       "metadata": {},
       "output_type": "display_data",
       "text": [
        "PROGRESS: Using 10000 / 82068 points for tuning the step size."
       ]
      },
      {
       "html": [
        "PROGRESS: Trial SGD step size 25 not viable.<br/>"
       ],
       "metadata": {},
       "output_type": "display_data",
       "text": [
        "PROGRESS: Trial SGD step size 25 not viable."
       ]
      },
      {
       "html": [
        "PROGRESS: Trial SGD step size 6.25 not viable.<br/>"
       ],
       "metadata": {},
       "output_type": "display_data",
       "text": [
        "PROGRESS: Trial SGD step size 6.25 not viable."
       ]
      },
      {
       "html": [
        "PROGRESS: Trial SGD step size 1.5625 not viable.<br/>"
       ],
       "metadata": {},
       "output_type": "display_data",
       "text": [
        "PROGRESS: Trial SGD step size 1.5625 not viable."
       ]
      },
      {
       "html": [
        "PROGRESS: Trial SGD step size 0.390625 not viable.<br/>"
       ],
       "metadata": {},
       "output_type": "display_data",
       "text": [
        "PROGRESS: Trial SGD step size 0.390625 not viable."
       ]
      },
      {
       "html": [
        "PROGRESS: Trial SGD step size 0.0976562 gives estimated objective value 0.0214204.<br/>"
       ],
       "metadata": {},
       "output_type": "display_data",
       "text": [
        "PROGRESS: Trial SGD step size 0.0976562 gives estimated objective value 0.0214204."
       ]
      },
      {
       "html": [
        "PROGRESS: Trial SGD step size 0.0244141 gives estimated objective value 0.202985.<br/>"
       ],
       "metadata": {},
       "output_type": "display_data",
       "text": [
        "PROGRESS: Trial SGD step size 0.0244141 gives estimated objective value 0.202985."
       ]
      },
      {
       "html": [
        "PROGRESS: Setting SGD step size to 0.0976562<br/>"
       ],
       "metadata": {},
       "output_type": "display_data",
       "text": [
        "PROGRESS: Setting SGD step size to 0.0976562"
       ]
      },
      {
       "html": [
        "PROGRESS: Iteration 2: Estimated objective value = 0.939199, Estimated training rmse = 0.969121.<br/>"
       ],
       "metadata": {},
       "output_type": "display_data",
       "text": [
        "PROGRESS: Iteration 2: Estimated objective value = 0.939199, Estimated training rmse = 0.969121."
       ]
      },
      {
       "html": [
        "PROGRESS: Iteration 3: Estimated objective value = 0.873272, Estimated training rmse = 0.934488.<br/>"
       ],
       "metadata": {},
       "output_type": "display_data",
       "text": [
        "PROGRESS: Iteration 3: Estimated objective value = 0.873272, Estimated training rmse = 0.934488."
       ]
      },
      {
       "html": [
        "PROGRESS: Iteration 4: Estimated objective value = 0.850994, Estimated training rmse = 0.922491.<br/>"
       ],
       "metadata": {},
       "output_type": "display_data",
       "text": [
        "PROGRESS: Iteration 4: Estimated objective value = 0.850994, Estimated training rmse = 0.922491."
       ]
      },
      {
       "html": [
        "PROGRESS: Iteration 5: Estimated objective value = 0.836566, Estimated training rmse = 0.914637.<br/>"
       ],
       "metadata": {},
       "output_type": "display_data",
       "text": [
        "PROGRESS: Iteration 5: Estimated objective value = 0.836566, Estimated training rmse = 0.914637."
       ]
      },
      {
       "html": [
        "PROGRESS: Iteration 6: Estimated objective value = 0.829062, Estimated training rmse = 0.910525.<br/>"
       ],
       "metadata": {},
       "output_type": "display_data",
       "text": [
        "PROGRESS: Iteration 6: Estimated objective value = 0.829062, Estimated training rmse = 0.910525."
       ]
      },
      {
       "html": [
        "PROGRESS: Iteration 7: Estimated objective value = 0.822127, Estimated training rmse = 0.906707.<br/>"
       ],
       "metadata": {},
       "output_type": "display_data",
       "text": [
        "PROGRESS: Iteration 7: Estimated objective value = 0.822127, Estimated training rmse = 0.906707."
       ]
      },
      {
       "html": [
        "PROGRESS: Iteration 8: Estimated objective value = 0.816251, Estimated training rmse = 0.903457.<br/>"
       ],
       "metadata": {},
       "output_type": "display_data",
       "text": [
        "PROGRESS: Iteration 8: Estimated objective value = 0.816251, Estimated training rmse = 0.903457."
       ]
      },
      {
       "html": [
        "PROGRESS: Iteration 9: Estimated objective value = 0.811851, Estimated training rmse = 0.901013.<br/>"
       ],
       "metadata": {},
       "output_type": "display_data",
       "text": [
        "PROGRESS: Iteration 9: Estimated objective value = 0.811851, Estimated training rmse = 0.901013."
       ]
      },
      {
       "html": [
        "PROGRESS: Iteration 10: Estimated objective value = 0.807461, Estimated training rmse = 0.898563.<br/>"
       ],
       "metadata": {},
       "output_type": "display_data",
       "text": [
        "PROGRESS: Iteration 10: Estimated objective value = 0.807461, Estimated training rmse = 0.898563."
       ]
      },
      {
       "html": [
        "PROGRESS: Iteration 11: Estimated objective value = 0.802948, Estimated training rmse = 0.896029.<br/>"
       ],
       "metadata": {},
       "output_type": "display_data",
       "text": [
        "PROGRESS: Iteration 11: Estimated objective value = 0.802948, Estimated training rmse = 0.896029."
       ]
      },
      {
       "html": [
        "PROGRESS: Iteration 12: Estimated objective value = 0.797244, Estimated training rmse = 0.892811.<br/>"
       ],
       "metadata": {},
       "output_type": "display_data",
       "text": [
        "PROGRESS: Iteration 12: Estimated objective value = 0.797244, Estimated training rmse = 0.892811."
       ]
      },
      {
       "html": [
        "PROGRESS: Iteration 13: Estimated objective value = 0.790178, Estimated training rmse = 0.888799.<br/>"
       ],
       "metadata": {},
       "output_type": "display_data",
       "text": [
        "PROGRESS: Iteration 13: Estimated objective value = 0.790178, Estimated training rmse = 0.888799."
       ]
      },
      {
       "html": [
        "PROGRESS: Iteration 14: Estimated objective value = 0.781872, Estimated training rmse = 0.884049.<br/>"
       ],
       "metadata": {},
       "output_type": "display_data",
       "text": [
        "PROGRESS: Iteration 14: Estimated objective value = 0.781872, Estimated training rmse = 0.884049."
       ]
      },
      {
       "html": [
        "PROGRESS: Iteration 15: Estimated objective value = 0.771856, Estimated training rmse = 0.878279.<br/>"
       ],
       "metadata": {},
       "output_type": "display_data",
       "text": [
        "PROGRESS: Iteration 15: Estimated objective value = 0.771856, Estimated training rmse = 0.878279."
       ]
      },
      {
       "html": [
        "PROGRESS: Iteration 16: Estimated objective value = 0.760585, Estimated training rmse = 0.871733.<br/>"
       ],
       "metadata": {},
       "output_type": "display_data",
       "text": [
        "PROGRESS: Iteration 16: Estimated objective value = 0.760585, Estimated training rmse = 0.871733."
       ]
      },
      {
       "html": [
        "PROGRESS: Iteration 17: Estimated objective value = 0.749328, Estimated training rmse = 0.865133.<br/>"
       ],
       "metadata": {},
       "output_type": "display_data",
       "text": [
        "PROGRESS: Iteration 17: Estimated objective value = 0.749328, Estimated training rmse = 0.865133."
       ]
      },
      {
       "html": [
        "PROGRESS: Iteration 18: Estimated objective value = 0.737762, Estimated training rmse = 0.858295.<br/>"
       ],
       "metadata": {},
       "output_type": "display_data",
       "text": [
        "PROGRESS: Iteration 18: Estimated objective value = 0.737762, Estimated training rmse = 0.858295."
       ]
      },
      {
       "html": [
        "PROGRESS: Iteration 19: Estimated objective value = 0.727244, Estimated training rmse = 0.852016.<br/>"
       ],
       "metadata": {},
       "output_type": "display_data",
       "text": [
        "PROGRESS: Iteration 19: Estimated objective value = 0.727244, Estimated training rmse = 0.852016."
       ]
      },
      {
       "html": [
        "PROGRESS: Iteration 20: Estimated objective value = 0.717715, Estimated training rmse = 0.846276.<br/>"
       ],
       "metadata": {},
       "output_type": "display_data",
       "text": [
        "PROGRESS: Iteration 20: Estimated objective value = 0.717715, Estimated training rmse = 0.846276."
       ]
      },
      {
       "html": [
        "PROGRESS: Iteration 21: Estimated objective value = 0.708579, Estimated training rmse = 0.840732.<br/>"
       ],
       "metadata": {},
       "output_type": "display_data",
       "text": [
        "PROGRESS: Iteration 21: Estimated objective value = 0.708579, Estimated training rmse = 0.840732."
       ]
      },
      {
       "html": [
        "PROGRESS: Iteration 22: Estimated objective value = 0.700021, Estimated training rmse = 0.835499.<br/>"
       ],
       "metadata": {},
       "output_type": "display_data",
       "text": [
        "PROGRESS: Iteration 22: Estimated objective value = 0.700021, Estimated training rmse = 0.835499."
       ]
      },
      {
       "html": [
        "PROGRESS: Iteration 23: Estimated objective value = 0.691892, Estimated training rmse = 0.830494.<br/>"
       ],
       "metadata": {},
       "output_type": "display_data",
       "text": [
        "PROGRESS: Iteration 23: Estimated objective value = 0.691892, Estimated training rmse = 0.830494."
       ]
      },
      {
       "html": [
        "PROGRESS: Iteration 24: Estimated objective value = 0.684161, Estimated training rmse = 0.8257.<br/>"
       ],
       "metadata": {},
       "output_type": "display_data",
       "text": [
        "PROGRESS: Iteration 24: Estimated objective value = 0.684161, Estimated training rmse = 0.8257."
       ]
      },
      {
       "html": [
        "PROGRESS: Iteration 25: Estimated objective value = 0.676484, Estimated training rmse = 0.820911.<br/>"
       ],
       "metadata": {},
       "output_type": "display_data",
       "text": [
        "PROGRESS: Iteration 25: Estimated objective value = 0.676484, Estimated training rmse = 0.820911."
       ]
      },
      {
       "html": [
        "PROGRESS: Iteration 26: Estimated objective value = 0.668999, Estimated training rmse = 0.816211.<br/>"
       ],
       "metadata": {},
       "output_type": "display_data",
       "text": [
        "PROGRESS: Iteration 26: Estimated objective value = 0.668999, Estimated training rmse = 0.816211."
       ]
      },
      {
       "html": [
        "PROGRESS: Iteration 27: Estimated objective value = 0.661314, Estimated training rmse = 0.81136.<br/>"
       ],
       "metadata": {},
       "output_type": "display_data",
       "text": [
        "PROGRESS: Iteration 27: Estimated objective value = 0.661314, Estimated training rmse = 0.81136."
       ]
      },
      {
       "html": [
        "PROGRESS: Iteration 28: Estimated objective value = 0.654116, Estimated training rmse = 0.80678.<br/>"
       ],
       "metadata": {},
       "output_type": "display_data",
       "text": [
        "PROGRESS: Iteration 28: Estimated objective value = 0.654116, Estimated training rmse = 0.80678."
       ]
      },
      {
       "html": [
        "PROGRESS: Iteration 29: Estimated objective value = 0.647111, Estimated training rmse = 0.802293.<br/>"
       ],
       "metadata": {},
       "output_type": "display_data",
       "text": [
        "PROGRESS: Iteration 29: Estimated objective value = 0.647111, Estimated training rmse = 0.802293."
       ]
      },
      {
       "html": [
        "PROGRESS: Iteration 30: Estimated objective value = 0.640041, Estimated training rmse = 0.79774.<br/>"
       ],
       "metadata": {},
       "output_type": "display_data",
       "text": [
        "PROGRESS: Iteration 30: Estimated objective value = 0.640041, Estimated training rmse = 0.79774."
       ]
      },
      {
       "html": [
        "PROGRESS: Iteration 31: Estimated objective value = 0.633135, Estimated training rmse = 0.793263.<br/>"
       ],
       "metadata": {},
       "output_type": "display_data",
       "text": [
        "PROGRESS: Iteration 31: Estimated objective value = 0.633135, Estimated training rmse = 0.793263."
       ]
      },
      {
       "html": [
        "PROGRESS: Iteration 32: Estimated objective value = 0.626498, Estimated training rmse = 0.788931.<br/>"
       ],
       "metadata": {},
       "output_type": "display_data",
       "text": [
        "PROGRESS: Iteration 32: Estimated objective value = 0.626498, Estimated training rmse = 0.788931."
       ]
      },
      {
       "html": [
        "PROGRESS: Iteration 33: Estimated objective value = 0.619828, Estimated training rmse = 0.784554.<br/>"
       ],
       "metadata": {},
       "output_type": "display_data",
       "text": [
        "PROGRESS: Iteration 33: Estimated objective value = 0.619828, Estimated training rmse = 0.784554."
       ]
      },
      {
       "html": [
        "PROGRESS: Iteration 34: Estimated objective value = 0.613602, Estimated training rmse = 0.780438.<br/>"
       ],
       "metadata": {},
       "output_type": "display_data",
       "text": [
        "PROGRESS: Iteration 34: Estimated objective value = 0.613602, Estimated training rmse = 0.780438."
       ]
      },
      {
       "html": [
        "PROGRESS: Iteration 35: Estimated objective value = 0.60749, Estimated training rmse = 0.776373.<br/>"
       ],
       "metadata": {},
       "output_type": "display_data",
       "text": [
        "PROGRESS: Iteration 35: Estimated objective value = 0.60749, Estimated training rmse = 0.776373."
       ]
      },
      {
       "html": [
        "PROGRESS: Iteration 36: Estimated objective value = 0.601773, Estimated training rmse = 0.772544.<br/>"
       ],
       "metadata": {},
       "output_type": "display_data",
       "text": [
        "PROGRESS: Iteration 36: Estimated objective value = 0.601773, Estimated training rmse = 0.772544."
       ]
      },
      {
       "html": [
        "PROGRESS: Iteration 37: Estimated objective value = 0.595971, Estimated training rmse = 0.768642.<br/>"
       ],
       "metadata": {},
       "output_type": "display_data",
       "text": [
        "PROGRESS: Iteration 37: Estimated objective value = 0.595971, Estimated training rmse = 0.768642."
       ]
      },
      {
       "html": [
        "PROGRESS: Iteration 38: Estimated objective value = 0.590582, Estimated training rmse = 0.764993.<br/>"
       ],
       "metadata": {},
       "output_type": "display_data",
       "text": [
        "PROGRESS: Iteration 38: Estimated objective value = 0.590582, Estimated training rmse = 0.764993."
       ]
      },
      {
       "html": [
        "PROGRESS: Iteration 39: Estimated objective value = 0.585401, Estimated training rmse = 0.761465.<br/>"
       ],
       "metadata": {},
       "output_type": "display_data",
       "text": [
        "PROGRESS: Iteration 39: Estimated objective value = 0.585401, Estimated training rmse = 0.761465."
       ]
      },
      {
       "html": [
        "PROGRESS: Iteration 40: Estimated objective value = 0.580422, Estimated training rmse = 0.758056.<br/>"
       ],
       "metadata": {},
       "output_type": "display_data",
       "text": [
        "PROGRESS: Iteration 40: Estimated objective value = 0.580422, Estimated training rmse = 0.758056."
       ]
      },
      {
       "html": [
        "PROGRESS: Iteration 41: Estimated objective value = 0.575709, Estimated training rmse = 0.75481.<br/>"
       ],
       "metadata": {},
       "output_type": "display_data",
       "text": [
        "PROGRESS: Iteration 41: Estimated objective value = 0.575709, Estimated training rmse = 0.75481."
       ]
      },
      {
       "html": [
        "PROGRESS: Iteration 42: Estimated objective value = 0.571474, Estimated training rmse = 0.751871.<br/>"
       ],
       "metadata": {},
       "output_type": "display_data",
       "text": [
        "PROGRESS: Iteration 42: Estimated objective value = 0.571474, Estimated training rmse = 0.751871."
       ]
      },
      {
       "html": [
        "PROGRESS: Iteration 43: Estimated objective value = 0.566885, Estimated training rmse = 0.748686.<br/>"
       ],
       "metadata": {},
       "output_type": "display_data",
       "text": [
        "PROGRESS: Iteration 43: Estimated objective value = 0.566885, Estimated training rmse = 0.748686."
       ]
      },
      {
       "html": [
        "PROGRESS: Iteration 44: Estimated objective value = 0.562909, Estimated training rmse = 0.745902.<br/>"
       ],
       "metadata": {},
       "output_type": "display_data",
       "text": [
        "PROGRESS: Iteration 44: Estimated objective value = 0.562909, Estimated training rmse = 0.745902."
       ]
      },
      {
       "html": [
        "PROGRESS: Iteration 45: Estimated objective value = 0.558913, Estimated training rmse = 0.743097.<br/>"
       ],
       "metadata": {},
       "output_type": "display_data",
       "text": [
        "PROGRESS: Iteration 45: Estimated objective value = 0.558913, Estimated training rmse = 0.743097."
       ]
      },
      {
       "html": [
        "PROGRESS: Iteration 46: Estimated objective value = 0.555256, Estimated training rmse = 0.740513.<br/>"
       ],
       "metadata": {},
       "output_type": "display_data",
       "text": [
        "PROGRESS: Iteration 46: Estimated objective value = 0.555256, Estimated training rmse = 0.740513."
       ]
      },
      {
       "html": [
        "PROGRESS: Iteration 47: Estimated objective value = 0.551717, Estimated training rmse = 0.738002.<br/>"
       ],
       "metadata": {},
       "output_type": "display_data",
       "text": [
        "PROGRESS: Iteration 47: Estimated objective value = 0.551717, Estimated training rmse = 0.738002."
       ]
      },
      {
       "html": [
        "PROGRESS: Iteration 48: Estimated objective value = 0.548126, Estimated training rmse = 0.735452.<br/>"
       ],
       "metadata": {},
       "output_type": "display_data",
       "text": [
        "PROGRESS: Iteration 48: Estimated objective value = 0.548126, Estimated training rmse = 0.735452."
       ]
      },
      {
       "html": [
        "PROGRESS: Iteration 49: Estimated objective value = 0.545006, Estimated training rmse = 0.733215.<br/>"
       ],
       "metadata": {},
       "output_type": "display_data",
       "text": [
        "PROGRESS: Iteration 49: Estimated objective value = 0.545006, Estimated training rmse = 0.733215."
       ]
      },
      {
       "html": [
        "PROGRESS: Iteration 50: Estimated objective value = 0.541827, Estimated training rmse = 0.730934.<br/>"
       ],
       "metadata": {},
       "output_type": "display_data",
       "text": [
        "PROGRESS: Iteration 50: Estimated objective value = 0.541827, Estimated training rmse = 0.730934."
       ]
      },
      {
       "html": [
        "PROGRESS: Maximum number of passes through the data reached; stopping.<br/>"
       ],
       "metadata": {},
       "output_type": "display_data",
       "text": [
        "PROGRESS: Maximum number of passes through the data reached; stopping."
       ]
      },
      {
       "html": [
        "PROGRESS: ---------------------------------------------<br/>"
       ],
       "metadata": {},
       "output_type": "display_data",
       "text": [
        "PROGRESS: ---------------------------------------------"
       ]
      },
      {
       "html": [
        "PROGRESS:           Optimization Completed<br/>"
       ],
       "metadata": {},
       "output_type": "display_data",
       "text": [
        "PROGRESS:           Optimization Completed"
       ]
      },
      {
       "html": [
        "PROGRESS: ---------------------------------------------<br/>"
       ],
       "metadata": {},
       "output_type": "display_data",
       "text": [
        "PROGRESS: ---------------------------------------------"
       ]
      },
      {
       "html": [
        "PROGRESS: Final objective value: 0.535647<br/>"
       ],
       "metadata": {},
       "output_type": "display_data",
       "text": [
        "PROGRESS: Final objective value: 0.535647"
       ]
      },
      {
       "html": [
        "PROGRESS: Final rmse: 0.726695<br/>"
       ],
       "metadata": {},
       "output_type": "display_data",
       "text": [
        "PROGRESS: Final rmse: 0.726695"
       ]
      }
     ],
     "prompt_number": 4
    },
    {
     "cell_type": "code",
     "collapsed": false,
     "input": [
      "# You can now make recommendations for all the users you've just trained on\n",
      "results = model.recommend(users=None, k=3)\n",
      "results.print_rows(20)"
     ],
     "language": "python",
     "metadata": {},
     "outputs": [
      {
       "output_type": "stream",
       "stream": "stdout",
       "text": [
        "+--------------+--------------------------------+---------------+------+\n",
        "|     user     |             movie              |     score     | rank |\n",
        "+--------------+--------------------------------+---------------+------+\n",
        "| Andre Smith  |      Ken Burns' Civil War      | 4.54782835098 |  1   |\n",
        "| Andre Smith  |     The Sopranos: Season 5     | 4.46638416692 |  2   |\n",
        "| Andre Smith  |     The Sopranos: Season 2     | 4.41023822292 |  3   |\n",
        "|  Zion Smith  | Eternal Sunshine of the Sp ... | 6.72309711886 |  1   |\n",
        "|  Zion Smith  |           Annie Hall           | 5.24349574006 |  2   |\n",
        "|  Zion Smith  |        Fahrenheit 9/11         | 4.91745462685 |  3   |\n",
        "| Shane Smith  |      Ken Burns' Civil War      | 4.93490237048 |  1   |\n",
        "| Shane Smith  | The Shawshank Redemption:  ... | 4.83626033343 |  2   |\n",
        "| Shane Smith  |    The West Wing: Season 1     | 4.79073651156 |  3   |\n",
        "| Israel Smith |      Ken Burns' Civil War      | 4.62246014701 |  1   |\n",
        "| Israel Smith |          The Notebook          | 4.60836348454 |  2   |\n",
        "| Israel Smith |     The Sopranos: Season 5     | 4.59434512108 |  3   |\n",
        "| Mario Smith  |      Ken Burns' Civil War      |  3.8017309045 |  1   |\n",
        "| Mario Smith  |    The West Wing: Season 1     | 3.78039786385 |  2   |\n",
        "| Mario Smith  | Sex and the City: Season 6 ... | 3.77390933619 |  3   |\n",
        "|  Ivan Smith  |          American Pie          |  8.2499343812 |  1   |\n",
        "|  Ivan Smith  |   The Passion of the Christ    | 8.14428210283 |  2   |\n",
        "|  Ivan Smith  |         Lethal Weapon          | 7.44051633281 |  3   |\n",
        "| Cesar Smith  |      Ken Burns' Civil War      | 5.55691130658 |  1   |\n",
        "| Cesar Smith  |     The Sopranos: Season 5     | 5.48429969735 |  2   |\n",
        "|     ...      |              ...               |      ...      | ...  |\n",
        "+--------------+--------------------------------+---------------+------+\n",
        "[1002 rows x 4 columns]\n",
        "\n"
       ]
      }
     ],
     "prompt_number": 9
    },
    {
     "cell_type": "code",
     "collapsed": false,
     "input": [
      "# Save the model for later use\n",
      "model.save(\"my_model\")"
     ],
     "language": "python",
     "metadata": {},
     "outputs": [],
     "prompt_number": 10
    },
    {
     "cell_type": "code",
     "collapsed": false,
     "input": [],
     "language": "python",
     "metadata": {},
     "outputs": []
    }
   ],
   "metadata": {}
  }
 ]
}