{
 "metadata": {
  "name": "",
  "signature": "sha256:655c4059e4656d770799ec49fe6c022dbd532e9ac64da826eee5a6684cbf1fc2"
 },
 "nbformat": 3,
 "nbformat_minor": 0,
 "worksheets": []
}